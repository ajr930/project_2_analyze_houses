{
 "cells": [
  {
   "cell_type": "markdown",
   "id": "5d420c8a",
   "metadata": {},
   "source": [
    "# King County House Analyzation"
   ]
  },
  {
   "cell_type": "markdown",
   "id": "5e360f44",
   "metadata": {},
   "source": [
    "## Import library"
   ]
  },
  {
   "cell_type": "code",
   "execution_count": 99,
   "id": "700f236d",
   "metadata": {},
   "outputs": [],
   "source": [
    "import pandas as pd\n",
    "import numpy as np\n",
    "import matplotlib.pyplot as plt\n",
    "import seaborn as sns\n",
    "from sklearn.linear_model import LinearRegression\n",
    "from sklearn.metrics import mean_absolute_error, mean_squared_error, r2_score\n",
    "from sklearn.model_selection import train_test_split, cross_validate, ShuffleSplit\n",
    "from sklearn.preprocessing import OneHotEncoder, StandardScaler\n",
    "from sklearn.feature_selection import RFECV\n",
    "from itertools import combinations\n",
    "import statsmodels.api as sm\n",
    "import scipy.stats as stats\n",
    "\n",
    "%matplotlib inline"
   ]
  },
  {
   "cell_type": "markdown",
   "id": "84080d2e",
   "metadata": {},
   "source": [
    "## Import Data"
   ]
  },
  {
   "cell_type": "code",
   "execution_count": 100,
   "id": "3956ecd3",
   "metadata": {},
   "outputs": [
    {
     "data": {
      "text/html": [
       "<div>\n",
       "<style scoped>\n",
       "    .dataframe tbody tr th:only-of-type {\n",
       "        vertical-align: middle;\n",
       "    }\n",
       "\n",
       "    .dataframe tbody tr th {\n",
       "        vertical-align: top;\n",
       "    }\n",
       "\n",
       "    .dataframe thead th {\n",
       "        text-align: right;\n",
       "    }\n",
       "</style>\n",
       "<table border=\"1\" class=\"dataframe\">\n",
       "  <thead>\n",
       "    <tr style=\"text-align: right;\">\n",
       "      <th></th>\n",
       "      <th>id</th>\n",
       "      <th>date</th>\n",
       "      <th>price</th>\n",
       "      <th>bedrooms</th>\n",
       "      <th>bathrooms</th>\n",
       "      <th>sqft_living</th>\n",
       "      <th>sqft_lot</th>\n",
       "      <th>floors</th>\n",
       "      <th>waterfront</th>\n",
       "      <th>view</th>\n",
       "      <th>...</th>\n",
       "      <th>grade</th>\n",
       "      <th>sqft_above</th>\n",
       "      <th>sqft_basement</th>\n",
       "      <th>yr_built</th>\n",
       "      <th>yr_renovated</th>\n",
       "      <th>zipcode</th>\n",
       "      <th>lat</th>\n",
       "      <th>long</th>\n",
       "      <th>sqft_living15</th>\n",
       "      <th>sqft_lot15</th>\n",
       "    </tr>\n",
       "  </thead>\n",
       "  <tbody>\n",
       "    <tr>\n",
       "      <th>0</th>\n",
       "      <td>7129300520</td>\n",
       "      <td>10/13/2014</td>\n",
       "      <td>221900.0</td>\n",
       "      <td>3</td>\n",
       "      <td>1.00</td>\n",
       "      <td>1180</td>\n",
       "      <td>5650</td>\n",
       "      <td>1.0</td>\n",
       "      <td>NaN</td>\n",
       "      <td>0.0</td>\n",
       "      <td>...</td>\n",
       "      <td>7</td>\n",
       "      <td>1180</td>\n",
       "      <td>0.0</td>\n",
       "      <td>1955</td>\n",
       "      <td>0.0</td>\n",
       "      <td>98178</td>\n",
       "      <td>47.5112</td>\n",
       "      <td>-122.257</td>\n",
       "      <td>1340</td>\n",
       "      <td>5650</td>\n",
       "    </tr>\n",
       "    <tr>\n",
       "      <th>1</th>\n",
       "      <td>6414100192</td>\n",
       "      <td>12/9/2014</td>\n",
       "      <td>538000.0</td>\n",
       "      <td>3</td>\n",
       "      <td>2.25</td>\n",
       "      <td>2570</td>\n",
       "      <td>7242</td>\n",
       "      <td>2.0</td>\n",
       "      <td>0.0</td>\n",
       "      <td>0.0</td>\n",
       "      <td>...</td>\n",
       "      <td>7</td>\n",
       "      <td>2170</td>\n",
       "      <td>400.0</td>\n",
       "      <td>1951</td>\n",
       "      <td>1991.0</td>\n",
       "      <td>98125</td>\n",
       "      <td>47.7210</td>\n",
       "      <td>-122.319</td>\n",
       "      <td>1690</td>\n",
       "      <td>7639</td>\n",
       "    </tr>\n",
       "    <tr>\n",
       "      <th>2</th>\n",
       "      <td>5631500400</td>\n",
       "      <td>2/25/2015</td>\n",
       "      <td>180000.0</td>\n",
       "      <td>2</td>\n",
       "      <td>1.00</td>\n",
       "      <td>770</td>\n",
       "      <td>10000</td>\n",
       "      <td>1.0</td>\n",
       "      <td>0.0</td>\n",
       "      <td>0.0</td>\n",
       "      <td>...</td>\n",
       "      <td>6</td>\n",
       "      <td>770</td>\n",
       "      <td>0.0</td>\n",
       "      <td>1933</td>\n",
       "      <td>NaN</td>\n",
       "      <td>98028</td>\n",
       "      <td>47.7379</td>\n",
       "      <td>-122.233</td>\n",
       "      <td>2720</td>\n",
       "      <td>8062</td>\n",
       "    </tr>\n",
       "    <tr>\n",
       "      <th>3</th>\n",
       "      <td>2487200875</td>\n",
       "      <td>12/9/2014</td>\n",
       "      <td>604000.0</td>\n",
       "      <td>4</td>\n",
       "      <td>3.00</td>\n",
       "      <td>1960</td>\n",
       "      <td>5000</td>\n",
       "      <td>1.0</td>\n",
       "      <td>0.0</td>\n",
       "      <td>0.0</td>\n",
       "      <td>...</td>\n",
       "      <td>7</td>\n",
       "      <td>1050</td>\n",
       "      <td>910.0</td>\n",
       "      <td>1965</td>\n",
       "      <td>0.0</td>\n",
       "      <td>98136</td>\n",
       "      <td>47.5208</td>\n",
       "      <td>-122.393</td>\n",
       "      <td>1360</td>\n",
       "      <td>5000</td>\n",
       "    </tr>\n",
       "    <tr>\n",
       "      <th>4</th>\n",
       "      <td>1954400510</td>\n",
       "      <td>2/18/2015</td>\n",
       "      <td>510000.0</td>\n",
       "      <td>3</td>\n",
       "      <td>2.00</td>\n",
       "      <td>1680</td>\n",
       "      <td>8080</td>\n",
       "      <td>1.0</td>\n",
       "      <td>0.0</td>\n",
       "      <td>0.0</td>\n",
       "      <td>...</td>\n",
       "      <td>8</td>\n",
       "      <td>1680</td>\n",
       "      <td>0.0</td>\n",
       "      <td>1987</td>\n",
       "      <td>0.0</td>\n",
       "      <td>98074</td>\n",
       "      <td>47.6168</td>\n",
       "      <td>-122.045</td>\n",
       "      <td>1800</td>\n",
       "      <td>7503</td>\n",
       "    </tr>\n",
       "  </tbody>\n",
       "</table>\n",
       "<p>5 rows × 21 columns</p>\n",
       "</div>"
      ],
      "text/plain": [
       "           id        date     price  bedrooms  bathrooms  sqft_living  \\\n",
       "0  7129300520  10/13/2014  221900.0         3       1.00         1180   \n",
       "1  6414100192   12/9/2014  538000.0         3       2.25         2570   \n",
       "2  5631500400   2/25/2015  180000.0         2       1.00          770   \n",
       "3  2487200875   12/9/2014  604000.0         4       3.00         1960   \n",
       "4  1954400510   2/18/2015  510000.0         3       2.00         1680   \n",
       "\n",
       "   sqft_lot  floors  waterfront  view  ...  grade  sqft_above  sqft_basement  \\\n",
       "0      5650     1.0         NaN   0.0  ...      7        1180            0.0   \n",
       "1      7242     2.0         0.0   0.0  ...      7        2170          400.0   \n",
       "2     10000     1.0         0.0   0.0  ...      6         770            0.0   \n",
       "3      5000     1.0         0.0   0.0  ...      7        1050          910.0   \n",
       "4      8080     1.0         0.0   0.0  ...      8        1680            0.0   \n",
       "\n",
       "  yr_built  yr_renovated  zipcode      lat     long  sqft_living15  sqft_lot15  \n",
       "0     1955           0.0    98178  47.5112 -122.257           1340        5650  \n",
       "1     1951        1991.0    98125  47.7210 -122.319           1690        7639  \n",
       "2     1933           NaN    98028  47.7379 -122.233           2720        8062  \n",
       "3     1965           0.0    98136  47.5208 -122.393           1360        5000  \n",
       "4     1987           0.0    98074  47.6168 -122.045           1800        7503  \n",
       "\n",
       "[5 rows x 21 columns]"
      ]
     },
     "execution_count": 100,
     "metadata": {},
     "output_type": "execute_result"
    }
   ],
   "source": [
    "df = pd.read_csv('data/kc_house_data.csv')\n",
    "df.head()"
   ]
  },
  {
   "cell_type": "markdown",
   "id": "b5f9c51c",
   "metadata": {},
   "source": [
    "### Column Names and descriptions for Kings County Data Set\n",
    "* **id** - unique identified for a house\n",
    "* **dateDate** - house was sold\n",
    "* **pricePrice** -  is prediction target\n",
    "* **bedroomsNumber** -  of Bedrooms/House\n",
    "* **bathroomsNumber** -  of bathrooms/bedrooms\n",
    "* **sqft_livingsquare** -  footage of the home\n",
    "* **sqft_lotsquare** -  footage of the lot\n",
    "* **floorsTotal** -  floors (levels) in house\n",
    "* **waterfront** - House which has a view to a waterfront\n",
    "* **view** - Has been viewed\n",
    "* **condition** - How good the condition is ( Overall )\n",
    "* **grade** - overall grade given to the housing unit, based on King County grading system\n",
    "* **sqft_above** - square footage of house apart from basement\n",
    "* **sqft_basement** - square footage of the basement\n",
    "* **yr_built** - Built Year\n",
    "* **yr_renovated** - Year when house was renovated\n",
    "* **zipcode** - zip\n",
    "* **lat** - Latitude coordinate\n",
    "* **long** - Longitude coordinate\n",
    "* **sqft_living15** - The square footage of interior housing living space for the nearest 15 neighbors\n",
    "* **sqft_lot15** - The square footage of the land lots of the nearest 15 neighbors\n"
   ]
  },
  {
   "cell_type": "code",
   "execution_count": 101,
   "id": "61948c53",
   "metadata": {},
   "outputs": [
    {
     "name": "stdout",
     "output_type": "stream",
     "text": [
      "<class 'pandas.core.frame.DataFrame'>\n",
      "RangeIndex: 21597 entries, 0 to 21596\n",
      "Data columns (total 21 columns):\n",
      " #   Column         Non-Null Count  Dtype  \n",
      "---  ------         --------------  -----  \n",
      " 0   id             21597 non-null  int64  \n",
      " 1   date           21597 non-null  object \n",
      " 2   price          21597 non-null  float64\n",
      " 3   bedrooms       21597 non-null  int64  \n",
      " 4   bathrooms      21597 non-null  float64\n",
      " 5   sqft_living    21597 non-null  int64  \n",
      " 6   sqft_lot       21597 non-null  int64  \n",
      " 7   floors         21597 non-null  float64\n",
      " 8   waterfront     19221 non-null  float64\n",
      " 9   view           21534 non-null  float64\n",
      " 10  condition      21597 non-null  int64  \n",
      " 11  grade          21597 non-null  int64  \n",
      " 12  sqft_above     21597 non-null  int64  \n",
      " 13  sqft_basement  21597 non-null  object \n",
      " 14  yr_built       21597 non-null  int64  \n",
      " 15  yr_renovated   17755 non-null  float64\n",
      " 16  zipcode        21597 non-null  int64  \n",
      " 17  lat            21597 non-null  float64\n",
      " 18  long           21597 non-null  float64\n",
      " 19  sqft_living15  21597 non-null  int64  \n",
      " 20  sqft_lot15     21597 non-null  int64  \n",
      "dtypes: float64(8), int64(11), object(2)\n",
      "memory usage: 3.5+ MB\n"
     ]
    }
   ],
   "source": [
    "df.info()"
   ]
  },
  {
   "cell_type": "code",
   "execution_count": 102,
   "id": "3997f1de",
   "metadata": {},
   "outputs": [
    {
     "data": {
      "text/html": [
       "<div>\n",
       "<style scoped>\n",
       "    .dataframe tbody tr th:only-of-type {\n",
       "        vertical-align: middle;\n",
       "    }\n",
       "\n",
       "    .dataframe tbody tr th {\n",
       "        vertical-align: top;\n",
       "    }\n",
       "\n",
       "    .dataframe thead th {\n",
       "        text-align: right;\n",
       "    }\n",
       "</style>\n",
       "<table border=\"1\" class=\"dataframe\">\n",
       "  <thead>\n",
       "    <tr style=\"text-align: right;\">\n",
       "      <th></th>\n",
       "      <th>id</th>\n",
       "      <th>price</th>\n",
       "      <th>bedrooms</th>\n",
       "      <th>bathrooms</th>\n",
       "      <th>sqft_living</th>\n",
       "      <th>sqft_lot</th>\n",
       "      <th>floors</th>\n",
       "      <th>waterfront</th>\n",
       "      <th>view</th>\n",
       "      <th>condition</th>\n",
       "      <th>grade</th>\n",
       "      <th>sqft_above</th>\n",
       "      <th>yr_built</th>\n",
       "      <th>yr_renovated</th>\n",
       "      <th>zipcode</th>\n",
       "      <th>lat</th>\n",
       "      <th>long</th>\n",
       "      <th>sqft_living15</th>\n",
       "      <th>sqft_lot15</th>\n",
       "    </tr>\n",
       "  </thead>\n",
       "  <tbody>\n",
       "    <tr>\n",
       "      <th>count</th>\n",
       "      <td>2.159700e+04</td>\n",
       "      <td>2.159700e+04</td>\n",
       "      <td>21597.000000</td>\n",
       "      <td>21597.000000</td>\n",
       "      <td>21597.000000</td>\n",
       "      <td>2.159700e+04</td>\n",
       "      <td>21597.000000</td>\n",
       "      <td>19221.000000</td>\n",
       "      <td>21534.000000</td>\n",
       "      <td>21597.000000</td>\n",
       "      <td>21597.000000</td>\n",
       "      <td>21597.000000</td>\n",
       "      <td>21597.000000</td>\n",
       "      <td>17755.000000</td>\n",
       "      <td>21597.000000</td>\n",
       "      <td>21597.000000</td>\n",
       "      <td>21597.000000</td>\n",
       "      <td>21597.000000</td>\n",
       "      <td>21597.000000</td>\n",
       "    </tr>\n",
       "    <tr>\n",
       "      <th>mean</th>\n",
       "      <td>4.580474e+09</td>\n",
       "      <td>5.402966e+05</td>\n",
       "      <td>3.373200</td>\n",
       "      <td>2.115826</td>\n",
       "      <td>2080.321850</td>\n",
       "      <td>1.509941e+04</td>\n",
       "      <td>1.494096</td>\n",
       "      <td>0.007596</td>\n",
       "      <td>0.233863</td>\n",
       "      <td>3.409825</td>\n",
       "      <td>7.657915</td>\n",
       "      <td>1788.596842</td>\n",
       "      <td>1970.999676</td>\n",
       "      <td>83.636778</td>\n",
       "      <td>98077.951845</td>\n",
       "      <td>47.560093</td>\n",
       "      <td>-122.213982</td>\n",
       "      <td>1986.620318</td>\n",
       "      <td>12758.283512</td>\n",
       "    </tr>\n",
       "    <tr>\n",
       "      <th>std</th>\n",
       "      <td>2.876736e+09</td>\n",
       "      <td>3.673681e+05</td>\n",
       "      <td>0.926299</td>\n",
       "      <td>0.768984</td>\n",
       "      <td>918.106125</td>\n",
       "      <td>4.141264e+04</td>\n",
       "      <td>0.539683</td>\n",
       "      <td>0.086825</td>\n",
       "      <td>0.765686</td>\n",
       "      <td>0.650546</td>\n",
       "      <td>1.173200</td>\n",
       "      <td>827.759761</td>\n",
       "      <td>29.375234</td>\n",
       "      <td>399.946414</td>\n",
       "      <td>53.513072</td>\n",
       "      <td>0.138552</td>\n",
       "      <td>0.140724</td>\n",
       "      <td>685.230472</td>\n",
       "      <td>27274.441950</td>\n",
       "    </tr>\n",
       "    <tr>\n",
       "      <th>min</th>\n",
       "      <td>1.000102e+06</td>\n",
       "      <td>7.800000e+04</td>\n",
       "      <td>1.000000</td>\n",
       "      <td>0.500000</td>\n",
       "      <td>370.000000</td>\n",
       "      <td>5.200000e+02</td>\n",
       "      <td>1.000000</td>\n",
       "      <td>0.000000</td>\n",
       "      <td>0.000000</td>\n",
       "      <td>1.000000</td>\n",
       "      <td>3.000000</td>\n",
       "      <td>370.000000</td>\n",
       "      <td>1900.000000</td>\n",
       "      <td>0.000000</td>\n",
       "      <td>98001.000000</td>\n",
       "      <td>47.155900</td>\n",
       "      <td>-122.519000</td>\n",
       "      <td>399.000000</td>\n",
       "      <td>651.000000</td>\n",
       "    </tr>\n",
       "    <tr>\n",
       "      <th>25%</th>\n",
       "      <td>2.123049e+09</td>\n",
       "      <td>3.220000e+05</td>\n",
       "      <td>3.000000</td>\n",
       "      <td>1.750000</td>\n",
       "      <td>1430.000000</td>\n",
       "      <td>5.040000e+03</td>\n",
       "      <td>1.000000</td>\n",
       "      <td>0.000000</td>\n",
       "      <td>0.000000</td>\n",
       "      <td>3.000000</td>\n",
       "      <td>7.000000</td>\n",
       "      <td>1190.000000</td>\n",
       "      <td>1951.000000</td>\n",
       "      <td>0.000000</td>\n",
       "      <td>98033.000000</td>\n",
       "      <td>47.471100</td>\n",
       "      <td>-122.328000</td>\n",
       "      <td>1490.000000</td>\n",
       "      <td>5100.000000</td>\n",
       "    </tr>\n",
       "    <tr>\n",
       "      <th>50%</th>\n",
       "      <td>3.904930e+09</td>\n",
       "      <td>4.500000e+05</td>\n",
       "      <td>3.000000</td>\n",
       "      <td>2.250000</td>\n",
       "      <td>1910.000000</td>\n",
       "      <td>7.618000e+03</td>\n",
       "      <td>1.500000</td>\n",
       "      <td>0.000000</td>\n",
       "      <td>0.000000</td>\n",
       "      <td>3.000000</td>\n",
       "      <td>7.000000</td>\n",
       "      <td>1560.000000</td>\n",
       "      <td>1975.000000</td>\n",
       "      <td>0.000000</td>\n",
       "      <td>98065.000000</td>\n",
       "      <td>47.571800</td>\n",
       "      <td>-122.231000</td>\n",
       "      <td>1840.000000</td>\n",
       "      <td>7620.000000</td>\n",
       "    </tr>\n",
       "    <tr>\n",
       "      <th>75%</th>\n",
       "      <td>7.308900e+09</td>\n",
       "      <td>6.450000e+05</td>\n",
       "      <td>4.000000</td>\n",
       "      <td>2.500000</td>\n",
       "      <td>2550.000000</td>\n",
       "      <td>1.068500e+04</td>\n",
       "      <td>2.000000</td>\n",
       "      <td>0.000000</td>\n",
       "      <td>0.000000</td>\n",
       "      <td>4.000000</td>\n",
       "      <td>8.000000</td>\n",
       "      <td>2210.000000</td>\n",
       "      <td>1997.000000</td>\n",
       "      <td>0.000000</td>\n",
       "      <td>98118.000000</td>\n",
       "      <td>47.678000</td>\n",
       "      <td>-122.125000</td>\n",
       "      <td>2360.000000</td>\n",
       "      <td>10083.000000</td>\n",
       "    </tr>\n",
       "    <tr>\n",
       "      <th>max</th>\n",
       "      <td>9.900000e+09</td>\n",
       "      <td>7.700000e+06</td>\n",
       "      <td>33.000000</td>\n",
       "      <td>8.000000</td>\n",
       "      <td>13540.000000</td>\n",
       "      <td>1.651359e+06</td>\n",
       "      <td>3.500000</td>\n",
       "      <td>1.000000</td>\n",
       "      <td>4.000000</td>\n",
       "      <td>5.000000</td>\n",
       "      <td>13.000000</td>\n",
       "      <td>9410.000000</td>\n",
       "      <td>2015.000000</td>\n",
       "      <td>2015.000000</td>\n",
       "      <td>98199.000000</td>\n",
       "      <td>47.777600</td>\n",
       "      <td>-121.315000</td>\n",
       "      <td>6210.000000</td>\n",
       "      <td>871200.000000</td>\n",
       "    </tr>\n",
       "  </tbody>\n",
       "</table>\n",
       "</div>"
      ],
      "text/plain": [
       "                 id         price      bedrooms     bathrooms   sqft_living  \\\n",
       "count  2.159700e+04  2.159700e+04  21597.000000  21597.000000  21597.000000   \n",
       "mean   4.580474e+09  5.402966e+05      3.373200      2.115826   2080.321850   \n",
       "std    2.876736e+09  3.673681e+05      0.926299      0.768984    918.106125   \n",
       "min    1.000102e+06  7.800000e+04      1.000000      0.500000    370.000000   \n",
       "25%    2.123049e+09  3.220000e+05      3.000000      1.750000   1430.000000   \n",
       "50%    3.904930e+09  4.500000e+05      3.000000      2.250000   1910.000000   \n",
       "75%    7.308900e+09  6.450000e+05      4.000000      2.500000   2550.000000   \n",
       "max    9.900000e+09  7.700000e+06     33.000000      8.000000  13540.000000   \n",
       "\n",
       "           sqft_lot        floors    waterfront          view     condition  \\\n",
       "count  2.159700e+04  21597.000000  19221.000000  21534.000000  21597.000000   \n",
       "mean   1.509941e+04      1.494096      0.007596      0.233863      3.409825   \n",
       "std    4.141264e+04      0.539683      0.086825      0.765686      0.650546   \n",
       "min    5.200000e+02      1.000000      0.000000      0.000000      1.000000   \n",
       "25%    5.040000e+03      1.000000      0.000000      0.000000      3.000000   \n",
       "50%    7.618000e+03      1.500000      0.000000      0.000000      3.000000   \n",
       "75%    1.068500e+04      2.000000      0.000000      0.000000      4.000000   \n",
       "max    1.651359e+06      3.500000      1.000000      4.000000      5.000000   \n",
       "\n",
       "              grade    sqft_above      yr_built  yr_renovated       zipcode  \\\n",
       "count  21597.000000  21597.000000  21597.000000  17755.000000  21597.000000   \n",
       "mean       7.657915   1788.596842   1970.999676     83.636778  98077.951845   \n",
       "std        1.173200    827.759761     29.375234    399.946414     53.513072   \n",
       "min        3.000000    370.000000   1900.000000      0.000000  98001.000000   \n",
       "25%        7.000000   1190.000000   1951.000000      0.000000  98033.000000   \n",
       "50%        7.000000   1560.000000   1975.000000      0.000000  98065.000000   \n",
       "75%        8.000000   2210.000000   1997.000000      0.000000  98118.000000   \n",
       "max       13.000000   9410.000000   2015.000000   2015.000000  98199.000000   \n",
       "\n",
       "                lat          long  sqft_living15     sqft_lot15  \n",
       "count  21597.000000  21597.000000   21597.000000   21597.000000  \n",
       "mean      47.560093   -122.213982    1986.620318   12758.283512  \n",
       "std        0.138552      0.140724     685.230472   27274.441950  \n",
       "min       47.155900   -122.519000     399.000000     651.000000  \n",
       "25%       47.471100   -122.328000    1490.000000    5100.000000  \n",
       "50%       47.571800   -122.231000    1840.000000    7620.000000  \n",
       "75%       47.678000   -122.125000    2360.000000   10083.000000  \n",
       "max       47.777600   -121.315000    6210.000000  871200.000000  "
      ]
     },
     "execution_count": 102,
     "metadata": {},
     "output_type": "execute_result"
    }
   ],
   "source": [
    "df.describe()"
   ]
  },
  {
   "cell_type": "markdown",
   "id": "1833639d",
   "metadata": {},
   "source": [
    "## Cleaning Data"
   ]
  },
  {
   "cell_type": "code",
   "execution_count": 103,
   "id": "9c572db8",
   "metadata": {},
   "outputs": [],
   "source": [
    "# Create age column for each house\n",
    "df['date'] = pd.to_datetime(df['date'])\n",
    "df['year'] = df['date'].apply(lambda date: date.year)\n",
    "\n",
    "# if else statement saying if the house was renovated, we subtract year with \n",
    "# renovated year else we subtract year with the year the house was built\n",
    "df['age'] = np.where(df['yr_renovated'] > 0, df['year'] - df['yr_renovated'], df['year']-df['yr_built'])"
   ]
  },
  {
   "cell_type": "code",
   "execution_count": 104,
   "id": "31758cca",
   "metadata": {},
   "outputs": [
    {
     "data": {
      "image/png": "[encoded data removed]",
      "text/plain": [
       "<Figure size 1440x1440 with 25 Axes>"
      ]
     },
     "metadata": {
      "needs_background": "light"
     },
     "output_type": "display_data"
    }
   ],
   "source": [
    "# Show histograph of each features\n",
    "df.hist(figsize=(20,20), bins='auto');"
   ]
  },
  {
   "cell_type": "code",
   "execution_count": 105,
   "id": "0d101063",
   "metadata": {},
   "outputs": [
    {
     "data": {
      "text/plain": [
       "count    21597.000000\n",
       "mean         3.373200\n",
       "std          0.926299\n",
       "min          1.000000\n",
       "25%          3.000000\n",
       "50%          3.000000\n",
       "75%          4.000000\n",
       "max         33.000000\n",
       "Name: bedrooms, dtype: float64"
      ]
     },
     "execution_count": 105,
     "metadata": {},
     "output_type": "execute_result"
    }
   ],
   "source": [
    "df['bedrooms'].describe()"
   ]
  },
  {
   "cell_type": "code",
   "execution_count": 106,
   "id": "d0683def",
   "metadata": {
    "scrolled": true
   },
   "outputs": [
    {
     "data": {
      "text/plain": [
       "count     21597.000000\n",
       "mean      12758.283512\n",
       "std       27274.441950\n",
       "min         651.000000\n",
       "25%        5100.000000\n",
       "50%        7620.000000\n",
       "75%       10083.000000\n",
       "max      871200.000000\n",
       "Name: sqft_lot15, dtype: float64"
      ]
     },
     "execution_count": 106,
     "metadata": {},
     "output_type": "execute_result"
    }
   ],
   "source": [
    "df['sqft_lot15'].describe()"
   ]
  },
  {
   "cell_type": "code",
   "execution_count": 107,
   "id": "05fd7633",
   "metadata": {},
   "outputs": [],
   "source": [
    "# Remove outliers\n",
    "\n",
    "# By looking at the graph above, we are going to remove data with bedrooms greater than or equal to 10\n",
    "df = df[df['bedrooms'] < 10]\n",
    "\n",
    "# By looking at the graph above, we are going to remove data with sqft_lot15 greater than or equal to 200000\n",
    "df = df[df['sqft_lot15'] < 200000]"
   ]
  },
  {
   "cell_type": "markdown",
   "id": "061bc3d8",
   "metadata": {},
   "source": [
    "Now  we are removing multiple features:\n",
    "- date, year, yr_built, yr_renovated: age columns is created for these\n",
    "- id: not neccessary\n",
    "- waterfront: will be useless if the house doesn't have waterfront\n",
    "- zipcode, lat, long: not exploring location\n",
    "- view: unbalanced sample sizes for each view\n",
    "- grade: our stakeholders are already homeowners of their house, so they can't really change the grade of their already-built house"
   ]
  },
  {
   "cell_type": "code",
   "execution_count": 108,
   "id": "8cd7f47c",
   "metadata": {},
   "outputs": [],
   "source": [
    "# Drop unnecessary features\n",
    "df.drop(['id', 'date', 'zipcode', 'grade', 'waterfront', 'lat', 'long', 'view', 'year', 'yr_built', 'yr_renovated'], axis=1, inplace=True)"
   ]
  },
  {
   "cell_type": "code",
   "execution_count": 109,
   "id": "69ace375",
   "metadata": {},
   "outputs": [
    {
     "data": {
      "text/plain": [
       "price            0\n",
       "bedrooms         0\n",
       "bathrooms        0\n",
       "sqft_living      0\n",
       "sqft_lot         0\n",
       "floors           0\n",
       "condition        0\n",
       "sqft_above       0\n",
       "sqft_basement    0\n",
       "sqft_living15    0\n",
       "sqft_lot15       0\n",
       "age              0\n",
       "dtype: int64"
      ]
     },
     "execution_count": 109,
     "metadata": {},
     "output_type": "execute_result"
    }
   ],
   "source": [
    "# Check for null values\n",
    "df.isnull().sum()"
   ]
  },
  {
   "cell_type": "code",
   "execution_count": 110,
   "id": "df60f374",
   "metadata": {},
   "outputs": [
    {
     "name": "stdout",
     "output_type": "stream",
     "text": [
      "<class 'pandas.core.frame.DataFrame'>\n",
      "Int64Index: 21424 entries, 0 to 21596\n",
      "Data columns (total 12 columns):\n",
      " #   Column         Non-Null Count  Dtype  \n",
      "---  ------         --------------  -----  \n",
      " 0   price          21424 non-null  float64\n",
      " 1   bedrooms       21424 non-null  int64  \n",
      " 2   bathrooms      21424 non-null  float64\n",
      " 3   sqft_living    21424 non-null  int64  \n",
      " 4   sqft_lot       21424 non-null  int64  \n",
      " 5   floors         21424 non-null  float64\n",
      " 6   condition      21424 non-null  int64  \n",
      " 7   sqft_above     21424 non-null  int64  \n",
      " 8   sqft_basement  21424 non-null  object \n",
      " 9   sqft_living15  21424 non-null  int64  \n",
      " 10  sqft_lot15     21424 non-null  int64  \n",
      " 11  age            21424 non-null  float64\n",
      "dtypes: float64(4), int64(7), object(1)\n",
      "memory usage: 2.1+ MB\n"
     ]
    }
   ],
   "source": [
    "# Check for object columns\n",
    "df.info()"
   ]
  },
  {
   "cell_type": "code",
   "execution_count": 111,
   "id": "9ba629f3",
   "metadata": {},
   "outputs": [
    {
     "data": {
      "text/plain": [
       "0.0       12708\n",
       "?           449\n",
       "600.0       215\n",
       "500.0       209\n",
       "700.0       208\n",
       "          ...  \n",
       "2130.0        1\n",
       "2120.0        1\n",
       "875.0         1\n",
       "1481.0        1\n",
       "1990.0        1\n",
       "Name: sqft_basement, Length: 302, dtype: int64"
      ]
     },
     "execution_count": 111,
     "metadata": {},
     "output_type": "execute_result"
    }
   ],
   "source": [
    "# Check for unique value\n",
    "df['sqft_basement'].value_counts()"
   ]
  },
  {
   "cell_type": "code",
   "execution_count": 112,
   "id": "3594d1ba",
   "metadata": {},
   "outputs": [],
   "source": [
    "# Drop rows with ? values\n",
    "df = df[(df != '?').all(axis=1)]"
   ]
  },
  {
   "cell_type": "code",
   "execution_count": 113,
   "id": "315b57b3",
   "metadata": {},
   "outputs": [],
   "source": [
    "# Convert object column to float\n",
    "df['sqft_basement'] = df['sqft_basement'].astype(float)"
   ]
  },
  {
   "cell_type": "markdown",
   "id": "b3abe0a3",
   "metadata": {},
   "source": [
    "## Normalize our Price"
   ]
  },
  {
   "cell_type": "code",
   "execution_count": 114,
   "id": "e7a566a8",
   "metadata": {},
   "outputs": [],
   "source": [
    "#data['price'] = np.log(data['price'])"
   ]
  },
  {
   "cell_type": "markdown",
   "id": "dd67e5e1",
   "metadata": {},
   "source": [
    "### 3 Standard Deviation"
   ]
  },
  {
   "cell_type": "code",
   "execution_count": 115,
   "id": "232ecc61",
   "metadata": {},
   "outputs": [
    {
     "data": {
      "text/plain": [
       "array([[<AxesSubplot:title={'center':'price'}>]], dtype=object)"
      ]
     },
     "execution_count": 115,
     "metadata": {},
     "output_type": "execute_result"
    },
    {
     "data": {
      "image/png": "[encoded data removed]",
      "text/plain": [
       "<Figure size 432x288 with 1 Axes>"
      ]
     },
     "metadata": {
      "needs_background": "light"
     },
     "output_type": "display_data"
    }
   ],
   "source": [
    "df.hist('price', bins='auto')"
   ]
  },
  {
   "cell_type": "markdown",
   "id": "0acdfa04",
   "metadata": {},
   "source": [
    "From the histogram of the price, we can see that our price data is really skewed. So, we are going to get rid of very high outlier by taking only the data within 3 standard deviations."
   ]
  },
  {
   "cell_type": "code",
   "execution_count": 116,
   "id": "bcfae26b",
   "metadata": {},
   "outputs": [],
   "source": [
    "# We are going to keep dataset that are 3STD away from the mean\n",
    "df = df[(df['price'] < (df['price'].mean() + df['price'].std()*3)) & (df['price'] > (df['price'].mean() - df['price'].std()*3))]"
   ]
  },
  {
   "cell_type": "code",
   "execution_count": 117,
   "id": "0138385d",
   "metadata": {
    "scrolled": true
   },
   "outputs": [
    {
     "data": {
      "text/plain": [
       "array([[<AxesSubplot:title={'center':'price'}>]], dtype=object)"
      ]
     },
     "execution_count": 117,
     "metadata": {},
     "output_type": "execute_result"
    },
    {
     "data": {
      "image/png": "[encoded data removed]",
      "text/plain": [
       "<Figure size 432x288 with 1 Axes>"
      ]
     },
     "metadata": {
      "needs_background": "light"
     },
     "output_type": "display_data"
    }
   ],
   "source": [
    "df.hist('price', bins='auto')"
   ]
  },
  {
   "cell_type": "markdown",
   "id": "66d87057",
   "metadata": {},
   "source": [
    "After removing high outliers, we can see that our graph looks more normalized than before."
   ]
  },
  {
   "cell_type": "markdown",
   "id": "d5197d7b",
   "metadata": {},
   "source": [
    "# Train-Test Split"
   ]
  },
  {
   "cell_type": "markdown",
   "id": "1b4da4dd",
   "metadata": {},
   "source": [
    "To create linear regresion models, we first need to split our data in to training data and testing data."
   ]
  },
  {
   "cell_type": "code",
   "execution_count": 118,
   "id": "9b744d2c",
   "metadata": {},
   "outputs": [],
   "source": [
    "# Use train_test_split to create training data and testing data\n",
    "X = df.drop(['price'], axis=1)\n",
    "y = df['price']\n",
    "\n",
    "X_train, X_test, y_train, y_test = train_test_split(X, y, test_size=0.25, random_state=42)"
   ]
  },
  {
   "cell_type": "markdown",
   "id": "4da686f5",
   "metadata": {},
   "source": [
    "After we split the data, we are going to work with the training data."
   ]
  },
  {
   "cell_type": "markdown",
   "id": "546bc111",
   "metadata": {},
   "source": [
    "Let's first look at which feature is the most correlated with the price."
   ]
  },
  {
   "cell_type": "code",
   "execution_count": 119,
   "id": "285cffb7",
   "metadata": {},
   "outputs": [
    {
     "data": {
      "image/png": "[encoded data removed]",
      "text/plain": [
       "<Figure size 1440x1080 with 2 Axes>"
      ]
     },
     "metadata": {
      "needs_background": "light"
     },
     "output_type": "display_data"
    }
   ],
   "source": [
    "# Create a heatmap to show correlations between features and price\n",
    "# We are going to make our price be the dependent feature and the rest features as independent.\n",
    "heatmap_data = pd.concat([y_train, X_train], axis=1)\n",
    "corr = heatmap_data.corr()\n",
    "\n",
    "# Set up figure and axes\n",
    "fig, ax = plt.subplots(figsize=(20, 15))\n",
    "\n",
    "# Plot a heatmap of the correlation matrix, with both\n",
    "# numbers and colors indicating the correlations\n",
    "sns.heatmap(\n",
    "    data=corr,\n",
    "    mask=np.triu(np.ones_like(corr, dtype=bool)),\n",
    "    ax=ax,\n",
    "    annot=True,\n",
    "    cbar_kws={\"label\": \"Correlation\", \"orientation\": \"horizontal\", \"pad\": .2, \"extend\": \"both\"}\n",
    ")\n",
    "\n",
    "# Customize the plot appearance\n",
    "ax.set_title(\"Heatmap of Correlation Between Attributes (Including Target)\");"
   ]
  },
  {
   "cell_type": "markdown",
   "id": "b156fe3a",
   "metadata": {},
   "source": [
    "## Baseline Model"
   ]
  },
  {
   "cell_type": "markdown",
   "id": "b0b57313",
   "metadata": {},
   "source": [
    "We can see from the heatmap that sqft_living is most correlated with price. So we will use that as our baseline model."
   ]
  },
  {
   "cell_type": "code",
   "execution_count": 120,
   "id": "7081b27d",
   "metadata": {},
   "outputs": [
    {
     "name": "stderr",
     "output_type": "stream",
     "text": [
      "C:\\Users\\soohy\\anaconda3\\lib\\site-packages\\seaborn\\regression.py:580: UserWarning: The `size` parameter has been renamed to `height`; please update your code.\n",
      "  warnings.warn(msg, UserWarning)\n"
     ]
    },
    {
     "data": {
      "image/png": "[encoded data removed]",
      "text/plain": [
       "<Figure size 504x504 with 1 Axes>"
      ]
     },
     "metadata": {
      "needs_background": "light"
     },
     "output_type": "display_data"
    }
   ],
   "source": [
    "# Create a scatter plot with the regression line for the baseline model\n",
    "most_correlated_feature = 'sqft_living'\n",
    "\n",
    "sns.lmplot(data=df, x='price', y='sqft_living', size=7,line_kws={'color':'red'})\n",
    "plt.xlabel('price')\n",
    "plt.ylabel('sqft_living')\n",
    "plt.title('sqft_living vs. price');"
   ]
  },
  {
   "cell_type": "markdown",
   "id": "05e6a94d",
   "metadata": {},
   "source": [
    "The graph above shows that there is a positive linear line btween price and sqft_living."
   ]
  },
  {
   "cell_type": "markdown",
   "id": "7b5d02a4",
   "metadata": {},
   "source": [
    "Now, we will get the r-squared values for this model."
   ]
  },
  {
   "cell_type": "code",
   "execution_count": 121,
   "id": "5e5219e0",
   "metadata": {},
   "outputs": [
    {
     "name": "stdout",
     "output_type": "stream",
     "text": [
      "Train score:      0.43809827960116837\n",
      "Validation score: 0.45174690732988537\n"
     ]
    }
   ],
   "source": [
    "# We are going to perform 3 separate train-test splits within our X_train and y_train, \n",
    "# then we will find both the train and the test scores for each\n",
    "baseline_model = LinearRegression()\n",
    "\n",
    "splitter = ShuffleSplit(n_splits=3, test_size=0.25, random_state=0)\n",
    "\n",
    "baseline_scores = cross_validate(\n",
    "    estimator=baseline_model,\n",
    "    X=X_train[[most_correlated_feature]],\n",
    "    y=y_train,\n",
    "    return_train_score=True,\n",
    "    cv=splitter\n",
    ")\n",
    "\n",
    "print(\"Train score:     \", baseline_scores[\"train_score\"].mean())\n",
    "print(\"Validation score:\", baseline_scores[\"test_score\"].mean())"
   ]
  },
  {
   "cell_type": "markdown",
   "id": "49543f8b",
   "metadata": {},
   "source": [
    "Our baseline model showed that our r-squared value is 0.45."
   ]
  },
  {
   "cell_type": "markdown",
   "id": "9c8c2113",
   "metadata": {},
   "source": [
    "## Second Model"
   ]
  },
  {
   "cell_type": "markdown",
   "id": "1bf75cf9",
   "metadata": {},
   "source": [
    "Now we are going to try to make our model better."
   ]
  },
  {
   "cell_type": "markdown",
   "id": "5845ecfb",
   "metadata": {},
   "source": [
    "### Check correlations (multicollinearity) between each features and remove"
   ]
  },
  {
   "cell_type": "code",
   "execution_count": 122,
   "id": "edb7f861",
   "metadata": {},
   "outputs": [],
   "source": [
    "# Make pairs of each features with their correlations\n",
    "df_corr = X_train.corr().abs().stack().reset_index().sort_values(0, ascending=False)\n",
    "\n",
    "df_corr['pairs'] = list(zip(df_corr.level_0, df_corr.level_1))\n",
    "\n",
    "df_corr.set_index(['pairs'], inplace=True)\n",
    "\n",
    "df_corr.drop(columns=['level_0', 'level_1'], inplace=True)\n",
    "\n",
    "df_corr.columns = ['cc']\n",
    "\n",
    "df_corr.drop_duplicates(inplace=True)"
   ]
  },
  {
   "cell_type": "code",
   "execution_count": 123,
   "id": "7aae8f4c",
   "metadata": {},
   "outputs": [
    {
     "data": {
      "text/html": [
       "<div>\n",
       "<style scoped>\n",
       "    .dataframe tbody tr th:only-of-type {\n",
       "        vertical-align: middle;\n",
       "    }\n",
       "\n",
       "    .dataframe tbody tr th {\n",
       "        vertical-align: top;\n",
       "    }\n",
       "\n",
       "    .dataframe thead th {\n",
       "        text-align: right;\n",
       "    }\n",
       "</style>\n",
       "<table border=\"1\" class=\"dataframe\">\n",
       "  <thead>\n",
       "    <tr style=\"text-align: right;\">\n",
       "      <th></th>\n",
       "      <th>cc</th>\n",
       "    </tr>\n",
       "    <tr>\n",
       "      <th>pairs</th>\n",
       "      <th></th>\n",
       "    </tr>\n",
       "  </thead>\n",
       "  <tbody>\n",
       "    <tr>\n",
       "      <th>(sqft_above, sqft_living)</th>\n",
       "      <td>0.860959</td>\n",
       "    </tr>\n",
       "    <tr>\n",
       "      <th>(sqft_living15, sqft_living)</th>\n",
       "      <td>0.754239</td>\n",
       "    </tr>\n",
       "  </tbody>\n",
       "</table>\n",
       "</div>"
      ],
      "text/plain": [
       "                                    cc\n",
       "pairs                                 \n",
       "(sqft_above, sqft_living)     0.860959\n",
       "(sqft_living15, sqft_living)  0.754239"
      ]
     },
     "execution_count": 123,
     "metadata": {},
     "output_type": "execute_result"
    }
   ],
   "source": [
    "# Look for the highest correlations\n",
    "df_corr[(df_corr.cc>.75) & (df_corr.cc <1)]"
   ]
  },
  {
   "cell_type": "markdown",
   "id": "c0d019b0",
   "metadata": {},
   "source": [
    "Since two different pairs of variables are highly correlated, the correct approach would be to one variable from the pairs.\n",
    "\n",
    "We can remove sqft_above since sqft_above is square footage of house apart from basement which is similar to sqft_living.\n",
    "\n",
    "We can remove sqft_living15 since the square footage of interior housing living space for the nearest 15 neighbors is more import than sqft_living."
   ]
  },
  {
   "cell_type": "code",
   "execution_count": 124,
   "id": "c1d0c7f5",
   "metadata": {},
   "outputs": [
    {
     "name": "stderr",
     "output_type": "stream",
     "text": [
      "C:\\Users\\soohy\\anaconda3\\lib\\site-packages\\pandas\\core\\frame.py:4308: SettingWithCopyWarning: \n",
      "A value is trying to be set on a copy of a slice from a DataFrame\n",
      "\n",
      "See the caveats in the documentation: https://pandas.pydata.org/pandas-docs/stable/user_guide/indexing.html#returning-a-view-versus-a-copy\n",
      "  return super().drop(\n"
     ]
    }
   ],
   "source": [
    "# Drop the two features\n",
    "X_train.drop(['sqft_above', 'sqft_living15'], axis=1, inplace=True)\n",
    "X_test.drop(['sqft_above', 'sqft_living15'], axis=1, inplace=True)"
   ]
  },
  {
   "cell_type": "code",
   "execution_count": 125,
   "id": "0051658d",
   "metadata": {
    "scrolled": false
   },
   "outputs": [
    {
     "data": {
      "text/html": [
       "<div>\n",
       "<style scoped>\n",
       "    .dataframe tbody tr th:only-of-type {\n",
       "        vertical-align: middle;\n",
       "    }\n",
       "\n",
       "    .dataframe tbody tr th {\n",
       "        vertical-align: top;\n",
       "    }\n",
       "\n",
       "    .dataframe thead th {\n",
       "        text-align: right;\n",
       "    }\n",
       "</style>\n",
       "<table border=\"1\" class=\"dataframe\">\n",
       "  <thead>\n",
       "    <tr style=\"text-align: right;\">\n",
       "      <th></th>\n",
       "      <th>bedrooms</th>\n",
       "      <th>bathrooms</th>\n",
       "      <th>sqft_living</th>\n",
       "      <th>sqft_lot</th>\n",
       "      <th>floors</th>\n",
       "      <th>condition</th>\n",
       "      <th>sqft_basement</th>\n",
       "      <th>sqft_lot15</th>\n",
       "      <th>age</th>\n",
       "    </tr>\n",
       "  </thead>\n",
       "  <tbody>\n",
       "    <tr>\n",
       "      <th>4293</th>\n",
       "      <td>3</td>\n",
       "      <td>1.00</td>\n",
       "      <td>1250</td>\n",
       "      <td>8276</td>\n",
       "      <td>1.5</td>\n",
       "      <td>5</td>\n",
       "      <td>0.0</td>\n",
       "      <td>8792</td>\n",
       "      <td>76.0</td>\n",
       "    </tr>\n",
       "    <tr>\n",
       "      <th>9151</th>\n",
       "      <td>3</td>\n",
       "      <td>2.00</td>\n",
       "      <td>1760</td>\n",
       "      <td>6092</td>\n",
       "      <td>1.0</td>\n",
       "      <td>3</td>\n",
       "      <td>0.0</td>\n",
       "      <td>6255</td>\n",
       "      <td>16.0</td>\n",
       "    </tr>\n",
       "    <tr>\n",
       "      <th>16533</th>\n",
       "      <td>3</td>\n",
       "      <td>1.75</td>\n",
       "      <td>1260</td>\n",
       "      <td>8487</td>\n",
       "      <td>1.0</td>\n",
       "      <td>3</td>\n",
       "      <td>0.0</td>\n",
       "      <td>13051</td>\n",
       "      <td>44.0</td>\n",
       "    </tr>\n",
       "    <tr>\n",
       "      <th>19078</th>\n",
       "      <td>3</td>\n",
       "      <td>2.25</td>\n",
       "      <td>2530</td>\n",
       "      <td>27227</td>\n",
       "      <td>2.0</td>\n",
       "      <td>3</td>\n",
       "      <td>0.0</td>\n",
       "      <td>30192</td>\n",
       "      <td>27.0</td>\n",
       "    </tr>\n",
       "    <tr>\n",
       "      <th>2828</th>\n",
       "      <td>5</td>\n",
       "      <td>3.00</td>\n",
       "      <td>2900</td>\n",
       "      <td>6730</td>\n",
       "      <td>1.0</td>\n",
       "      <td>5</td>\n",
       "      <td>1070.0</td>\n",
       "      <td>6283</td>\n",
       "      <td>37.0</td>\n",
       "    </tr>\n",
       "  </tbody>\n",
       "</table>\n",
       "</div>"
      ],
      "text/plain": [
       "       bedrooms  bathrooms  sqft_living  sqft_lot  floors  condition  \\\n",
       "4293          3       1.00         1250      8276     1.5          5   \n",
       "9151          3       2.00         1760      6092     1.0          3   \n",
       "16533         3       1.75         1260      8487     1.0          3   \n",
       "19078         3       2.25         2530     27227     2.0          3   \n",
       "2828          5       3.00         2900      6730     1.0          5   \n",
       "\n",
       "       sqft_basement  sqft_lot15   age  \n",
       "4293             0.0        8792  76.0  \n",
       "9151             0.0        6255  16.0  \n",
       "16533            0.0       13051  44.0  \n",
       "19078            0.0       30192  27.0  \n",
       "2828          1070.0        6283  37.0  "
      ]
     },
     "execution_count": 125,
     "metadata": {},
     "output_type": "execute_result"
    }
   ],
   "source": [
    "X_train.head()"
   ]
  },
  {
   "cell_type": "markdown",
   "id": "c506117c",
   "metadata": {},
   "source": [
    "Let's check our second model."
   ]
  },
  {
   "cell_type": "code",
   "execution_count": 126,
   "id": "17021282",
   "metadata": {},
   "outputs": [
    {
     "name": "stdout",
     "output_type": "stream",
     "text": [
      "Current Model\n",
      "Train score:      0.4981829009126592\n",
      "Validation score: 0.5114025797081387\n",
      "\n",
      "Baseline Model\n",
      "Train score:      0.43809827960116837\n",
      "Validation score: 0.45174690732988537 \n",
      "\n",
      "Train MAE: 136179.34082309518\n",
      "Test MAE: 138396.76954310565 \n",
      "\n",
      "Train MSE: 33221795088.586315\n",
      "Test MSE: 34866130880.95273 \n",
      "\n",
      "Train RMSE: 182268.46981468383\n",
      "Test RMSE: 186724.74630041068 \n",
      "\n",
      "Train R-Squared: 0.5016419840665775\n",
      "Test R-Squared: 0.49117228087784925\n",
      "\n"
     ]
    }
   ],
   "source": [
    "second_model = LinearRegression()\n",
    "\n",
    "second_model_scores = cross_validate(\n",
    "    estimator=second_model,\n",
    "    X=X_train,\n",
    "    y=y_train,\n",
    "    return_train_score=True,\n",
    "    cv=splitter\n",
    ")\n",
    "\n",
    "print(\"Current Model\")\n",
    "print(\"Train score:     \", second_model_scores[\"train_score\"].mean())\n",
    "print(\"Validation score:\", second_model_scores[\"test_score\"].mean())\n",
    "print()\n",
    "print(\"Baseline Model\")\n",
    "print(\"Train score:     \", baseline_scores[\"train_score\"].mean())\n",
    "print(\"Validation score:\", baseline_scores[\"test_score\"].mean(),'\\n')\n",
    "\n",
    "# Linear Regression (check MAE, MSE, RMSE)\n",
    "second_model.fit(X_train, y_train)\n",
    "\n",
    "preds_train = second_model.predict(X_train)\n",
    "preds_test = second_model.predict(X_test)\n",
    "\n",
    "print(f'Train MAE: {mean_absolute_error(y_train, preds_train)}')\n",
    "print('Test MAE:', mean_absolute_error(y_test, preds_test), '\\n')\n",
    "\n",
    "print(f'Train MSE: {mean_squared_error(y_train, preds_train)}')\n",
    "print('Test MSE:', mean_squared_error(y_test, preds_test),'\\n')\n",
    "\n",
    "print(f'Train RMSE: {mean_squared_error(y_train, preds_train, squared=False)}')\n",
    "print('Test RMSE:', mean_squared_error(y_test, preds_test, squared=False),'\\n')\n",
    "\n",
    "print(f'Train R-Squared: {r2_score(y_train, preds_train)}')\n",
    "print(f'Test R-Squared: {r2_score(y_test, preds_test)}\\n')\n"
   ]
  },
  {
   "cell_type": "markdown",
   "id": "519f24f2",
   "metadata": {},
   "source": [
    "By removing the two highly correlated features, we imporved our model by approximately 6%.\n",
    "Our model is approximately \\\\$136K-\\\\$183K away from the actual price."
   ]
  },
  {
   "cell_type": "markdown",
   "id": "bed683d8",
   "metadata": {},
   "source": [
    "## Third Model"
   ]
  },
  {
   "cell_type": "markdown",
   "id": "f5d49dfe",
   "metadata": {},
   "source": [
    "From our second model, we are going look at the p-values to drop insignificatn features and see if our model imporved."
   ]
  },
  {
   "cell_type": "code",
   "execution_count": 127,
   "id": "ed2913e2",
   "metadata": {},
   "outputs": [
    {
     "data": {
      "text/html": [
       "<table class=\"simpletable\">\n",
       "<caption>OLS Regression Results</caption>\n",
       "<tr>\n",
       "  <th>Dep. Variable:</th>          <td>price</td>      <th>  R-squared:         </th>  <td>   0.502</td>  \n",
       "</tr>\n",
       "<tr>\n",
       "  <th>Model:</th>                   <td>OLS</td>       <th>  Adj. R-squared:    </th>  <td>   0.501</td>  \n",
       "</tr>\n",
       "<tr>\n",
       "  <th>Method:</th>             <td>Least Squares</td>  <th>  F-statistic:       </th>  <td>   1725.</td>  \n",
       "</tr>\n",
       "<tr>\n",
       "  <th>Date:</th>             <td>Thu, 26 Aug 2021</td> <th>  Prob (F-statistic):</th>   <td>  0.00</td>   \n",
       "</tr>\n",
       "<tr>\n",
       "  <th>Time:</th>                 <td>11:40:05</td>     <th>  Log-Likelihood:    </th> <td>-2.0883e+05</td>\n",
       "</tr>\n",
       "<tr>\n",
       "  <th>No. Observations:</th>      <td> 15432</td>      <th>  AIC:               </th>  <td>4.177e+05</td> \n",
       "</tr>\n",
       "<tr>\n",
       "  <th>Df Residuals:</th>          <td> 15422</td>      <th>  BIC:               </th>  <td>4.178e+05</td> \n",
       "</tr>\n",
       "<tr>\n",
       "  <th>Df Model:</th>              <td>     9</td>      <th>                     </th>      <td> </td>     \n",
       "</tr>\n",
       "<tr>\n",
       "  <th>Covariance Type:</th>      <td>nonrobust</td>    <th>                     </th>      <td> </td>     \n",
       "</tr>\n",
       "</table>\n",
       "<table class=\"simpletable\">\n",
       "<tr>\n",
       "        <td></td>           <th>coef</th>     <th>std err</th>      <th>t</th>      <th>P>|t|</th>  <th>[0.025</th>    <th>0.975]</th>  \n",
       "</tr>\n",
       "<tr>\n",
       "  <th>const</th>         <td>-1.269e+05</td> <td> 1.16e+04</td> <td>  -10.960</td> <td> 0.000</td> <td> -1.5e+05</td> <td>-1.04e+05</td>\n",
       "</tr>\n",
       "<tr>\n",
       "  <th>bedrooms</th>      <td>-4.656e+04</td> <td> 2118.906</td> <td>  -21.975</td> <td> 0.000</td> <td>-5.07e+04</td> <td>-4.24e+04</td>\n",
       "</tr>\n",
       "<tr>\n",
       "  <th>bathrooms</th>     <td> 4.472e+04</td> <td> 3555.994</td> <td>   12.576</td> <td> 0.000</td> <td> 3.77e+04</td> <td> 5.17e+04</td>\n",
       "</tr>\n",
       "<tr>\n",
       "  <th>sqft_living</th>   <td>  225.5373</td> <td>    3.098</td> <td>   72.798</td> <td> 0.000</td> <td>  219.465</td> <td>  231.610</td>\n",
       "</tr>\n",
       "<tr>\n",
       "  <th>sqft_lot</th>      <td>   -0.0161</td> <td>    0.066</td> <td>   -0.245</td> <td> 0.806</td> <td>   -0.145</td> <td>    0.112</td>\n",
       "</tr>\n",
       "<tr>\n",
       "  <th>floors</th>        <td> 6.038e+04</td> <td> 3787.111</td> <td>   15.943</td> <td> 0.000</td> <td>  5.3e+04</td> <td> 6.78e+04</td>\n",
       "</tr>\n",
       "<tr>\n",
       "  <th>condition</th>     <td> 1.831e+04</td> <td> 2490.814</td> <td>    7.350</td> <td> 0.000</td> <td> 1.34e+04</td> <td> 2.32e+04</td>\n",
       "</tr>\n",
       "<tr>\n",
       "  <th>sqft_basement</th> <td>    1.7538</td> <td>    4.480</td> <td>    0.391</td> <td> 0.695</td> <td>   -7.027</td> <td>   10.535</td>\n",
       "</tr>\n",
       "<tr>\n",
       "  <th>sqft_lot15</th>    <td>   -0.5811</td> <td>    0.128</td> <td>   -4.528</td> <td> 0.000</td> <td>   -0.833</td> <td>   -0.330</td>\n",
       "</tr>\n",
       "<tr>\n",
       "  <th>age</th>           <td> 2215.8637</td> <td>   69.422</td> <td>   31.919</td> <td> 0.000</td> <td> 2079.789</td> <td> 2351.938</td>\n",
       "</tr>\n",
       "</table>\n",
       "<table class=\"simpletable\">\n",
       "<tr>\n",
       "  <th>Omnibus:</th>       <td>2553.852</td> <th>  Durbin-Watson:     </th> <td>   2.013</td>\n",
       "</tr>\n",
       "<tr>\n",
       "  <th>Prob(Omnibus):</th>  <td> 0.000</td>  <th>  Jarque-Bera (JB):  </th> <td>6295.330</td>\n",
       "</tr>\n",
       "<tr>\n",
       "  <th>Skew:</th>           <td> 0.930</td>  <th>  Prob(JB):          </th> <td>    0.00</td>\n",
       "</tr>\n",
       "<tr>\n",
       "  <th>Kurtosis:</th>       <td> 5.516</td>  <th>  Cond. No.          </th> <td>2.82e+05</td>\n",
       "</tr>\n",
       "</table><br/><br/>Notes:<br/>[1] Standard Errors assume that the covariance matrix of the errors is correctly specified.<br/>[2] The condition number is large, 2.82e+05. This might indicate that there are<br/>strong multicollinearity or other numerical problems."
      ],
      "text/plain": [
       "<class 'statsmodels.iolib.summary.Summary'>\n",
       "\"\"\"\n",
       "                            OLS Regression Results                            \n",
       "==============================================================================\n",
       "Dep. Variable:                  price   R-squared:                       0.502\n",
       "Model:                            OLS   Adj. R-squared:                  0.501\n",
       "Method:                 Least Squares   F-statistic:                     1725.\n",
       "Date:                Thu, 26 Aug 2021   Prob (F-statistic):               0.00\n",
       "Time:                        11:40:05   Log-Likelihood:            -2.0883e+05\n",
       "No. Observations:               15432   AIC:                         4.177e+05\n",
       "Df Residuals:                   15422   BIC:                         4.178e+05\n",
       "Df Model:                           9                                         \n",
       "Covariance Type:            nonrobust                                         \n",
       "=================================================================================\n",
       "                    coef    std err          t      P>|t|      [0.025      0.975]\n",
       "---------------------------------------------------------------------------------\n",
       "const         -1.269e+05   1.16e+04    -10.960      0.000    -1.5e+05   -1.04e+05\n",
       "bedrooms      -4.656e+04   2118.906    -21.975      0.000   -5.07e+04   -4.24e+04\n",
       "bathrooms      4.472e+04   3555.994     12.576      0.000    3.77e+04    5.17e+04\n",
       "sqft_living     225.5373      3.098     72.798      0.000     219.465     231.610\n",
       "sqft_lot         -0.0161      0.066     -0.245      0.806      -0.145       0.112\n",
       "floors         6.038e+04   3787.111     15.943      0.000     5.3e+04    6.78e+04\n",
       "condition      1.831e+04   2490.814      7.350      0.000    1.34e+04    2.32e+04\n",
       "sqft_basement     1.7538      4.480      0.391      0.695      -7.027      10.535\n",
       "sqft_lot15       -0.5811      0.128     -4.528      0.000      -0.833      -0.330\n",
       "age            2215.8637     69.422     31.919      0.000    2079.789    2351.938\n",
       "==============================================================================\n",
       "Omnibus:                     2553.852   Durbin-Watson:                   2.013\n",
       "Prob(Omnibus):                  0.000   Jarque-Bera (JB):             6295.330\n",
       "Skew:                           0.930   Prob(JB):                         0.00\n",
       "Kurtosis:                       5.516   Cond. No.                     2.82e+05\n",
       "==============================================================================\n",
       "\n",
       "Notes:\n",
       "[1] Standard Errors assume that the covariance matrix of the errors is correctly specified.\n",
       "[2] The condition number is large, 2.82e+05. This might indicate that there are\n",
       "strong multicollinearity or other numerical problems.\n",
       "\"\"\""
      ]
     },
     "execution_count": 127,
     "metadata": {},
     "output_type": "execute_result"
    }
   ],
   "source": [
    "# Create a model and look at the summary for p-values\n",
    "sm.OLS(y_train, sm.add_constant(X_train)).fit().summary()"
   ]
  },
  {
   "cell_type": "markdown",
   "id": "6475f619",
   "metadata": {},
   "source": [
    "From the model summary, we found that sqft_lot and sqft_basement are insignificant."
   ]
  },
  {
   "cell_type": "code",
   "execution_count": 128,
   "id": "98faca43",
   "metadata": {},
   "outputs": [
    {
     "name": "stderr",
     "output_type": "stream",
     "text": [
      "C:\\Users\\soohy\\anaconda3\\lib\\site-packages\\pandas\\core\\frame.py:4308: SettingWithCopyWarning: \n",
      "A value is trying to be set on a copy of a slice from a DataFrame\n",
      "\n",
      "See the caveats in the documentation: https://pandas.pydata.org/pandas-docs/stable/user_guide/indexing.html#returning-a-view-versus-a-copy\n",
      "  return super().drop(\n"
     ]
    }
   ],
   "source": [
    "# Drop insignificant features\n",
    "X_train.drop(['sqft_lot', 'sqft_basement'], axis=1, inplace=True)\n",
    "X_test.drop(['sqft_lot', 'sqft_basement'], axis=1, inplace=True)"
   ]
  },
  {
   "cell_type": "markdown",
   "id": "f994dd29",
   "metadata": {},
   "source": [
    "Since we dropped insignificant features, let's look at our model again."
   ]
  },
  {
   "cell_type": "code",
   "execution_count": 129,
   "id": "01370906",
   "metadata": {},
   "outputs": [
    {
     "name": "stdout",
     "output_type": "stream",
     "text": [
      "Current Model\n",
      "Train score:      0.49815556646083703\n",
      "Validation score: 0.5115248055310088\n",
      "\n",
      "Second Model\n",
      "Train score:      0.4981829009126592\n",
      "Validation score: 0.5114025797081387\n",
      "\n",
      "Baseline Model\n",
      "Train score:      0.43809827960116837\n",
      "Validation score: 0.45174690732988537\n"
     ]
    }
   ],
   "source": [
    "third_model = LinearRegression()\n",
    "\n",
    "third_model_scores = cross_validate(\n",
    "    estimator=third_model,\n",
    "    X=X_train,\n",
    "    y=y_train,\n",
    "    return_train_score=True,\n",
    "    cv=splitter\n",
    ")\n",
    "\n",
    "print(\"Current Model\")\n",
    "print(\"Train score:     \", third_model_scores[\"train_score\"].mean())\n",
    "print(\"Validation score:\", third_model_scores[\"test_score\"].mean())\n",
    "print()\n",
    "print(\"Second Model\")\n",
    "print(\"Train score:     \", second_model_scores[\"train_score\"].mean())\n",
    "print(\"Validation score:\", second_model_scores[\"test_score\"].mean())\n",
    "print()\n",
    "print(\"Baseline Model\")\n",
    "print(\"Train score:     \", baseline_scores[\"train_score\"].mean())\n",
    "print(\"Validation score:\", baseline_scores[\"test_score\"].mean())\n"
   ]
  },
  {
   "cell_type": "markdown",
   "id": "d1f6e9b8",
   "metadata": {},
   "source": [
    "We did slightly better than our previous model by 0.01%."
   ]
  },
  {
   "cell_type": "markdown",
   "id": "08892382",
   "metadata": {},
   "source": [
    "## Fourth Model - Final"
   ]
  },
  {
   "cell_type": "markdown",
   "id": "5c7ba788",
   "metadata": {},
   "source": [
    "We are going to scale our features so that we can categorical and continuous features on the same scale."
   ]
  },
  {
   "cell_type": "code",
   "execution_count": 130,
   "id": "4a201430",
   "metadata": {},
   "outputs": [
    {
     "data": {
      "image/png": "[encoded data removed]",
      "text/plain": [
       "<Figure size 1440x720 with 9 Axes>"
      ]
     },
     "metadata": {
      "needs_background": "light"
     },
     "output_type": "display_data"
    }
   ],
   "source": [
    "X_train.hist(figsize=(20,10));"
   ]
  },
  {
   "cell_type": "markdown",
   "id": "0344a5f1",
   "metadata": {},
   "source": [
    "### One Hot Encoder / Standard Scaler"
   ]
  },
  {
   "cell_type": "markdown",
   "id": "d63faf6a",
   "metadata": {},
   "source": [
    "To scale our data, we are going to use OneHotEncoder for categorical features and StandardScaler for our continuous features."
   ]
  },
  {
   "cell_type": "markdown",
   "id": "0f728e0d",
   "metadata": {},
   "source": [
    "#### One Hot Encoder"
   ]
  },
  {
   "cell_type": "code",
   "execution_count": 131,
   "id": "73254baf",
   "metadata": {},
   "outputs": [],
   "source": [
    "# We chose condition feature as categorical.\n",
    "# We kept bedrooms, bathrooms, and floors as continuous features because they are actual integers, not categories.\n",
    "categoricals = ['condition']\n",
    "\n",
    "train_dummies = X_train[categoricals]\n",
    "test_dummies = X_test[categoricals]\n",
    "\n",
    "# Create OneHotEncoder object to create dummies\n",
    "ohe = OneHotEncoder(handle_unknown='ignore')\n",
    "\n",
    "# Transform the dataset into dummies matrix\n",
    "enc = ohe.fit(train_dummies)\n",
    "\n",
    "train_dummies_trans = enc.transform(train_dummies)\n",
    "test_dummies_trans = enc.transform(test_dummies)\n",
    "\n",
    "# Dummies values in matrix form\n",
    "train_data = train_dummies_trans.todense()\n",
    "test_data = test_dummies_trans.todense()\n",
    "\n",
    "# New dummy column names\n",
    "names = ohe.get_feature_names(categoricals)\n",
    "\n",
    "# Make them into Dataframe\n",
    "train_dummies_trans_df = pd.DataFrame(train_data, columns=names)\n",
    "test_dummies_trans_df = pd.DataFrame(test_data, columns=names)"
   ]
  },
  {
   "cell_type": "markdown",
   "id": "00d51fcd",
   "metadata": {},
   "source": [
    "#### Standard Scaler"
   ]
  },
  {
   "cell_type": "code",
   "execution_count": 132,
   "id": "0e6ebe0f",
   "metadata": {},
   "outputs": [],
   "source": [
    "# Continuous features\n",
    "continuous = ['bedrooms', 'bathrooms', 'sqft_living', 'floors', 'sqft_lot15', 'age']\n",
    "\n",
    "train_continuous = X_train[continuous]\n",
    "test_continuous = X_test[continuous]\n",
    "\n",
    "# Make StandardScaler object\n",
    "scaler = StandardScaler()\n",
    "\n",
    "# Fit the train data into the scaler\n",
    "df_fit = scaler.fit(train_continuous)\n",
    "\n",
    "# Transform data\n",
    "train_data_scaled = df_fit.transform(train_continuous)\n",
    "test_data_scaled = df_fit.transform(test_continuous)\n",
    "\n",
    "# Make them into Dataframe\n",
    "train_scaled_df = pd.DataFrame(train_data_scaled, columns = continuous)\n",
    "test_scaled_df = pd.DataFrame(test_data_scaled, columns = continuous)"
   ]
  },
  {
   "cell_type": "markdown",
   "id": "66e8aaa5",
   "metadata": {},
   "source": [
    "#### Combining the data"
   ]
  },
  {
   "cell_type": "markdown",
   "id": "9ecf000e",
   "metadata": {},
   "source": [
    "After we scaled our continuous data and one hot encoded our categorical data, we are going to combine them so that we have one final X_train."
   ]
  },
  {
   "cell_type": "code",
   "execution_count": 133,
   "id": "c8442c14",
   "metadata": {},
   "outputs": [],
   "source": [
    "# Reset index to make sure dummy features and scaled features concat correctly\n",
    "train_dummies_trans_df.reset_index(drop=True, inplace=True)\n",
    "train_scaled_df.reset_index(drop=True, inplace=True)\n",
    "\n",
    "test_dummies_trans_df.reset_index(drop=True, inplace=True)\n",
    "test_scaled_df.reset_index(drop=True, inplace=True)\n",
    "\n",
    "# Combine the two dataframe together\n",
    "X_train_comb = pd.concat([train_scaled_df, train_dummies_trans_df], axis=1)\n",
    "X_test_comb = pd.concat([test_scaled_df, test_dummies_trans_df], axis=1)"
   ]
  },
  {
   "cell_type": "code",
   "execution_count": 134,
   "id": "082ddfd1",
   "metadata": {},
   "outputs": [
    {
     "data": {
      "text/html": [
       "<div>\n",
       "<style scoped>\n",
       "    .dataframe tbody tr th:only-of-type {\n",
       "        vertical-align: middle;\n",
       "    }\n",
       "\n",
       "    .dataframe tbody tr th {\n",
       "        vertical-align: top;\n",
       "    }\n",
       "\n",
       "    .dataframe thead th {\n",
       "        text-align: right;\n",
       "    }\n",
       "</style>\n",
       "<table border=\"1\" class=\"dataframe\">\n",
       "  <thead>\n",
       "    <tr style=\"text-align: right;\">\n",
       "      <th></th>\n",
       "      <th>bedrooms</th>\n",
       "      <th>bathrooms</th>\n",
       "      <th>sqft_living</th>\n",
       "      <th>floors</th>\n",
       "      <th>sqft_lot15</th>\n",
       "      <th>age</th>\n",
       "      <th>condition_1</th>\n",
       "      <th>condition_2</th>\n",
       "      <th>condition_3</th>\n",
       "      <th>condition_4</th>\n",
       "      <th>condition_5</th>\n",
       "    </tr>\n",
       "  </thead>\n",
       "  <tbody>\n",
       "    <tr>\n",
       "      <th>0</th>\n",
       "      <td>-0.401615</td>\n",
       "      <td>-1.487457</td>\n",
       "      <td>-0.936596</td>\n",
       "      <td>0.029943</td>\n",
       "      <td>-0.127524</td>\n",
       "      <td>1.191051</td>\n",
       "      <td>0.0</td>\n",
       "      <td>0.0</td>\n",
       "      <td>0.0</td>\n",
       "      <td>0.0</td>\n",
       "      <td>1.0</td>\n",
       "    </tr>\n",
       "    <tr>\n",
       "      <th>1</th>\n",
       "      <td>-0.401615</td>\n",
       "      <td>-0.117922</td>\n",
       "      <td>-0.319995</td>\n",
       "      <td>-0.899785</td>\n",
       "      <td>-0.293769</td>\n",
       "      <td>-0.886754</td>\n",
       "      <td>0.0</td>\n",
       "      <td>0.0</td>\n",
       "      <td>1.0</td>\n",
       "      <td>0.0</td>\n",
       "      <td>0.0</td>\n",
       "    </tr>\n",
       "    <tr>\n",
       "      <th>2</th>\n",
       "      <td>-0.401615</td>\n",
       "      <td>-0.460306</td>\n",
       "      <td>-0.924506</td>\n",
       "      <td>-0.899785</td>\n",
       "      <td>0.151560</td>\n",
       "      <td>0.082888</td>\n",
       "      <td>0.0</td>\n",
       "      <td>0.0</td>\n",
       "      <td>1.0</td>\n",
       "      <td>0.0</td>\n",
       "      <td>0.0</td>\n",
       "    </tr>\n",
       "    <tr>\n",
       "      <th>3</th>\n",
       "      <td>-0.401615</td>\n",
       "      <td>0.224462</td>\n",
       "      <td>0.610951</td>\n",
       "      <td>0.959670</td>\n",
       "      <td>1.274778</td>\n",
       "      <td>-0.505823</td>\n",
       "      <td>0.0</td>\n",
       "      <td>0.0</td>\n",
       "      <td>1.0</td>\n",
       "      <td>0.0</td>\n",
       "      <td>0.0</td>\n",
       "    </tr>\n",
       "    <tr>\n",
       "      <th>4</th>\n",
       "      <td>1.849648</td>\n",
       "      <td>1.251613</td>\n",
       "      <td>1.058289</td>\n",
       "      <td>-0.899785</td>\n",
       "      <td>-0.291934</td>\n",
       "      <td>-0.159522</td>\n",
       "      <td>0.0</td>\n",
       "      <td>0.0</td>\n",
       "      <td>0.0</td>\n",
       "      <td>0.0</td>\n",
       "      <td>1.0</td>\n",
       "    </tr>\n",
       "    <tr>\n",
       "      <th>...</th>\n",
       "      <td>...</td>\n",
       "      <td>...</td>\n",
       "      <td>...</td>\n",
       "      <td>...</td>\n",
       "      <td>...</td>\n",
       "      <td>...</td>\n",
       "      <td>...</td>\n",
       "      <td>...</td>\n",
       "      <td>...</td>\n",
       "      <td>...</td>\n",
       "      <td>...</td>\n",
       "    </tr>\n",
       "    <tr>\n",
       "      <th>15427</th>\n",
       "      <td>0.724016</td>\n",
       "      <td>-0.460306</td>\n",
       "      <td>-0.392536</td>\n",
       "      <td>-0.899785</td>\n",
       "      <td>-0.179029</td>\n",
       "      <td>0.498449</td>\n",
       "      <td>0.0</td>\n",
       "      <td>0.0</td>\n",
       "      <td>1.0</td>\n",
       "      <td>0.0</td>\n",
       "      <td>0.0</td>\n",
       "    </tr>\n",
       "    <tr>\n",
       "      <th>15428</th>\n",
       "      <td>-0.401615</td>\n",
       "      <td>0.566846</td>\n",
       "      <td>-0.501348</td>\n",
       "      <td>0.959670</td>\n",
       "      <td>-0.310479</td>\n",
       "      <td>-0.713604</td>\n",
       "      <td>0.0</td>\n",
       "      <td>0.0</td>\n",
       "      <td>0.0</td>\n",
       "      <td>1.0</td>\n",
       "      <td>0.0</td>\n",
       "    </tr>\n",
       "    <tr>\n",
       "      <th>15429</th>\n",
       "      <td>0.724016</td>\n",
       "      <td>-1.487457</td>\n",
       "      <td>-0.984957</td>\n",
       "      <td>0.029943</td>\n",
       "      <td>-0.196460</td>\n",
       "      <td>1.779763</td>\n",
       "      <td>0.0</td>\n",
       "      <td>0.0</td>\n",
       "      <td>1.0</td>\n",
       "      <td>0.0</td>\n",
       "      <td>0.0</td>\n",
       "    </tr>\n",
       "    <tr>\n",
       "      <th>15430</th>\n",
       "      <td>0.724016</td>\n",
       "      <td>0.224462</td>\n",
       "      <td>0.199884</td>\n",
       "      <td>0.959670</td>\n",
       "      <td>-0.031919</td>\n",
       "      <td>-0.124892</td>\n",
       "      <td>0.0</td>\n",
       "      <td>0.0</td>\n",
       "      <td>0.0</td>\n",
       "      <td>1.0</td>\n",
       "      <td>0.0</td>\n",
       "    </tr>\n",
       "    <tr>\n",
       "      <th>15431</th>\n",
       "      <td>0.724016</td>\n",
       "      <td>1.936381</td>\n",
       "      <td>1.904604</td>\n",
       "      <td>0.959670</td>\n",
       "      <td>-0.361787</td>\n",
       "      <td>-1.440836</td>\n",
       "      <td>0.0</td>\n",
       "      <td>0.0</td>\n",
       "      <td>1.0</td>\n",
       "      <td>0.0</td>\n",
       "      <td>0.0</td>\n",
       "    </tr>\n",
       "  </tbody>\n",
       "</table>\n",
       "<p>15432 rows × 11 columns</p>\n",
       "</div>"
      ],
      "text/plain": [
       "       bedrooms  bathrooms  sqft_living    floors  sqft_lot15       age  \\\n",
       "0     -0.401615  -1.487457    -0.936596  0.029943   -0.127524  1.191051   \n",
       "1     -0.401615  -0.117922    -0.319995 -0.899785   -0.293769 -0.886754   \n",
       "2     -0.401615  -0.460306    -0.924506 -0.899785    0.151560  0.082888   \n",
       "3     -0.401615   0.224462     0.610951  0.959670    1.274778 -0.505823   \n",
       "4      1.849648   1.251613     1.058289 -0.899785   -0.291934 -0.159522   \n",
       "...         ...        ...          ...       ...         ...       ...   \n",
       "15427  0.724016  -0.460306    -0.392536 -0.899785   -0.179029  0.498449   \n",
       "15428 -0.401615   0.566846    -0.501348  0.959670   -0.310479 -0.713604   \n",
       "15429  0.724016  -1.487457    -0.984957  0.029943   -0.196460  1.779763   \n",
       "15430  0.724016   0.224462     0.199884  0.959670   -0.031919 -0.124892   \n",
       "15431  0.724016   1.936381     1.904604  0.959670   -0.361787 -1.440836   \n",
       "\n",
       "       condition_1  condition_2  condition_3  condition_4  condition_5  \n",
       "0              0.0          0.0          0.0          0.0          1.0  \n",
       "1              0.0          0.0          1.0          0.0          0.0  \n",
       "2              0.0          0.0          1.0          0.0          0.0  \n",
       "3              0.0          0.0          1.0          0.0          0.0  \n",
       "4              0.0          0.0          0.0          0.0          1.0  \n",
       "...            ...          ...          ...          ...          ...  \n",
       "15427          0.0          0.0          1.0          0.0          0.0  \n",
       "15428          0.0          0.0          0.0          1.0          0.0  \n",
       "15429          0.0          0.0          1.0          0.0          0.0  \n",
       "15430          0.0          0.0          0.0          1.0          0.0  \n",
       "15431          0.0          0.0          1.0          0.0          0.0  \n",
       "\n",
       "[15432 rows x 11 columns]"
      ]
     },
     "execution_count": 134,
     "metadata": {},
     "output_type": "execute_result"
    }
   ],
   "source": [
    "X_train_comb"
   ]
  },
  {
   "cell_type": "markdown",
   "id": "8bcd118f",
   "metadata": {},
   "source": [
    "With our scaled data, we are going to do linear regression."
   ]
  },
  {
   "cell_type": "code",
   "execution_count": 135,
   "id": "87e6e8be",
   "metadata": {},
   "outputs": [
    {
     "name": "stdout",
     "output_type": "stream",
     "text": [
      "Current Model\n",
      "Train score:      0.4986895395557404\n",
      "Validation score: 0.5115620977839782\n",
      "\n",
      "Third Model\n",
      "Train score:      0.49815556646083703\n",
      "Validation score: 0.5115248055310088\n",
      "\n",
      "Second Model\n",
      "Train score:      0.4981829009126592\n",
      "Validation score: 0.5114025797081387\n",
      "\n",
      "Baseline Model\n",
      "Train score:      0.43809827960116837\n",
      "Validation score: 0.45174690732988537\n"
     ]
    }
   ],
   "source": [
    "fourth_model = LinearRegression()\n",
    "\n",
    "fourth_model_scores = cross_validate(\n",
    "    estimator=fourth_model,\n",
    "    X=X_train_comb,\n",
    "    y=y_train,\n",
    "    return_train_score=True,\n",
    "    cv=splitter\n",
    ")\n",
    "\n",
    "print(\"Current Model\")\n",
    "print(\"Train score:     \", fourth_model_scores[\"train_score\"].mean())\n",
    "print(\"Validation score:\", fourth_model_scores[\"test_score\"].mean())\n",
    "print()\n",
    "print(\"Third Model\")\n",
    "print(\"Train score:     \", third_model_scores[\"train_score\"].mean())\n",
    "print(\"Validation score:\", third_model_scores[\"test_score\"].mean())\n",
    "print()\n",
    "print(\"Second Model\")\n",
    "print(\"Train score:     \", second_model_scores[\"train_score\"].mean())\n",
    "print(\"Validation score:\", second_model_scores[\"test_score\"].mean())\n",
    "print()\n",
    "print(\"Baseline Model\")\n",
    "print(\"Train score:     \", baseline_scores[\"train_score\"].mean())\n",
    "print(\"Validation score:\", baseline_scores[\"test_score\"].mean())"
   ]
  },
  {
   "cell_type": "code",
   "execution_count": 136,
   "id": "39a7074f",
   "metadata": {
    "scrolled": true
   },
   "outputs": [
    {
     "name": "stdout",
     "output_type": "stream",
     "text": [
      "Train R-Squared: 0.502068837511837\n",
      "Test R-Squared: 0.49181607104147496\n",
      "\n",
      "Train MAE: 136059.45005219206\n",
      "Test MAE: 138261.48143750036\n",
      "\n",
      "Train MSE: 33193339967.49289\n",
      "Test MSE: 34822016790.34547\n",
      "\n",
      "Train RMSE: 182190.394827754\n",
      "Test RMSE: 186606.58292339384\n"
     ]
    }
   ],
   "source": [
    "linreg = LinearRegression()\n",
    "linreg.fit(X_train_comb, y_train)\n",
    "\n",
    "pred_train = linreg.predict(X_train_comb)\n",
    "pred_test = linreg.predict(X_test_comb)\n",
    "\n",
    "print(f'Train R-Squared: {r2_score(y_train, pred_train)}')\n",
    "print(f'Test R-Squared: {r2_score(y_test, pred_test)}\\n')\n",
    "\n",
    "print(f'Train MAE: {mean_absolute_error(y_train, pred_train)}')\n",
    "print(f'Test MAE: {mean_absolute_error(y_test, pred_test)}\\n')\n",
    "\n",
    "print(f'Train MSE: {mean_squared_error(y_train, pred_train)}')\n",
    "print(f'Test MSE: {mean_squared_error(y_test, pred_test)}\\n')\n",
    "\n",
    "print(f'Train RMSE: {mean_squared_error(y_train, pred_train, squared=False)}')\n",
    "print(f'Test RMSE: {mean_squared_error(y_test, pred_test, squared=False)}')"
   ]
  },
  {
   "cell_type": "markdown",
   "id": "9b9cdb07",
   "metadata": {},
   "source": [
    "We can see that our current model's r-squared increased by 0.004%. If we compare with our baseline model, r-squared increased by 0.06. It also seems like the model didn't increase our mean absolute error and root mean squared error."
   ]
  },
  {
   "cell_type": "markdown",
   "id": "097db17a",
   "metadata": {},
   "source": [
    "Our model is approximately \\\\$136K - \\\\$186K away from the actual price."
   ]
  },
  {
   "cell_type": "code",
   "execution_count": 82,
   "id": "db9cdd37",
   "metadata": {},
   "outputs": [
    {
     "data": {
      "text/plain": [
       "485242.46752624016"
      ]
     },
     "execution_count": 82,
     "metadata": {},
     "output_type": "execute_result"
    }
   ],
   "source": [
    "# intercept for the model\n",
    "linreg.intercept_"
   ]
  },
  {
   "cell_type": "markdown",
   "id": "af5aacb2",
   "metadata": {},
   "source": [
    "The linear regression model has a positive intercept of 485,424."
   ]
  },
  {
   "cell_type": "markdown",
   "id": "6b63fa89",
   "metadata": {},
   "source": [
    "Next, we should check the coefficients of each features to see which features are highly impactful."
   ]
  },
  {
   "cell_type": "code",
   "execution_count": 83,
   "id": "167ec6a2",
   "metadata": {
    "scrolled": false
   },
   "outputs": [
    {
     "data": {
      "text/plain": [
       "[('sqft_living', 186780.21385014756),\n",
       " ('age', 64797.82155895761),\n",
       " ('condition_5', 54298.19478109401),\n",
       " ('bathrooms', 32503.17315609037),\n",
       " ('floors', 31610.037035338442),\n",
       " ('condition_4', 24809.520913115368),\n",
       " ('condition_3', 14563.39378179381),\n",
       " ('sqft_lot15', -8886.04053401534),\n",
       " ('bedrooms', -41215.91307079543),\n",
       " ('condition_1', -43182.41985063144),\n",
       " ('condition_2', -50488.68962537157)]"
      ]
     },
     "execution_count": 83,
     "metadata": {},
     "output_type": "execute_result"
    }
   ],
   "source": [
    "# Check coefficients for each features\n",
    "coef = dict(zip(X_train_comb.columns, linreg.coef_))\n",
    "\n",
    "sorted(coef.items(), key=lambda x:x[1], reverse=True)"
   ]
  },
  {
   "cell_type": "markdown",
   "id": "9300fb37",
   "metadata": {},
   "source": [
    "### Pick top two best features"
   ]
  },
  {
   "cell_type": "markdown",
   "id": "41edb8a0",
   "metadata": {},
   "source": [
    "For the top two best features, we chose sqft_living and bathroom. We decided not to choose age because the homeowners cannot change the age of the house. We also didn't choose the condition because some repairments do not increase the value of the house. So, you can spend money but the homeowners may not get the same/higher values back."
   ]
  },
  {
   "cell_type": "markdown",
   "id": "71f0d65a",
   "metadata": {},
   "source": [
    "We see that sqft_living has the highest coefficient. This means that price increase by approximately \\\\$186,780 for 1 standard deviation of the sqft_living."
   ]
  },
  {
   "cell_type": "markdown",
   "id": "361e0204",
   "metadata": {},
   "source": [
    "We can also see that price increase approximately $32,503 for 1 standard deviation of the bathroom."
   ]
  },
  {
   "cell_type": "markdown",
   "id": "0b90b061",
   "metadata": {},
   "source": [
    "## Checking for Assumptions"
   ]
  },
  {
   "cell_type": "markdown",
   "id": "dfe6e639",
   "metadata": {},
   "source": [
    "We need to check assumptions for linear regression on our final model."
   ]
  },
  {
   "cell_type": "markdown",
   "id": "0379e57e",
   "metadata": {},
   "source": [
    "### Investigating Linearity"
   ]
  },
  {
   "cell_type": "markdown",
   "id": "7cdf98be",
   "metadata": {},
   "source": [
    "First, we are going to check for linearity. "
   ]
  },
  {
   "cell_type": "code",
   "execution_count": 94,
   "id": "79f0c80a",
   "metadata": {
    "scrolled": false
   },
   "outputs": [
    {
     "data": {
      "image/png": "[encoded data removed]",
      "text/plain": [
       "<Figure size 432x288 with 1 Axes>"
      ]
     },
     "metadata": {
      "needs_background": "light"
     },
     "output_type": "display_data"
    }
   ],
   "source": [
    "# Get predicted values \n",
    "preds = linreg.predict(X_test_comb)\n",
    "fig, ax = plt.subplots()\n",
    "\n",
    "# Plot the price with predicted values\n",
    "# Plot best regression line to check for linearity\n",
    "perfect_line = np.arange(y_test.min(), y_test.max())\n",
    "ax.plot(perfect_line, linestyle=\"--\", color=\"orange\", label=\"Perfect Fit\")\n",
    "ax.scatter(y_test, preds, alpha=0.5)\n",
    "ax.set_xlabel(\"Actual Price\")\n",
    "ax.set_ylabel(\"Predicted Price\")\n",
    "ax.legend();"
   ]
  },
  {
   "cell_type": "markdown",
   "id": "cd270e03",
   "metadata": {},
   "source": [
    "Although our some of our data is spread out, most of our data follows the best fit line.\n",
    "So our model does not violate the linear assumption."
   ]
  },
  {
   "cell_type": "markdown",
   "id": "af9283d4",
   "metadata": {},
   "source": [
    "### Investigating Normality"
   ]
  },
  {
   "cell_type": "markdown",
   "id": "274be885",
   "metadata": {},
   "source": [
    "Next, we are going to check for normality assumption."
   ]
  },
  {
   "cell_type": "code",
   "execution_count": 95,
   "id": "14565dca",
   "metadata": {},
   "outputs": [
    {
     "data": {
      "image/png": "[encoded data removed]",
      "text/plain": [
       "<Figure size 432x288 with 1 Axes>"
      ]
     },
     "metadata": {
      "needs_background": "light"
     },
     "output_type": "display_data"
    }
   ],
   "source": [
    "# Calculate residuals and plot them with qqplot function\n",
    "residuals = (y_test - preds)\n",
    "sm.graphics.qqplot(residuals, dist=stats.norm, line='45', fit=True);"
   ]
  },
  {
   "cell_type": "markdown",
   "id": "66fc5d51",
   "metadata": {},
   "source": [
    "From the graph above, we can see that our data are mostly normalized. We see some outliers on the right side.\n",
    "Since majority of our residuals lie within the line, our model does not violate the normality assumption."
   ]
  },
  {
   "cell_type": "markdown",
   "id": "d6a36c9d",
   "metadata": {},
   "source": [
    "### Investigating Multicollinearity"
   ]
  },
  {
   "cell_type": "markdown",
   "id": "7663138c",
   "metadata": {},
   "source": [
    "Next, we are going to check for multicollinearity."
   ]
  },
  {
   "cell_type": "code",
   "execution_count": 96,
   "id": "4d0e7cb1",
   "metadata": {},
   "outputs": [
    {
     "data": {
      "text/plain": [
       "bedrooms       1.645446\n",
       "bathrooms      3.047760\n",
       "sqft_living    2.673839\n",
       "floors         1.563260\n",
       "sqft_lot15     1.091119\n",
       "age            1.867270\n",
       "condition_1    1.002667\n",
       "condition_2    1.010182\n",
       "condition_3    1.091255\n",
       "condition_4    1.094692\n",
       "condition_5    1.094926\n",
       "Name: Variance Inflation Factor, dtype: float64"
      ]
     },
     "execution_count": 96,
     "metadata": {},
     "output_type": "execute_result"
    }
   ],
   "source": [
    "from statsmodels.stats.outliers_influence import variance_inflation_factor\n",
    "vif = [variance_inflation_factor(X_train_comb.values, i) for i in range(X_train_comb.shape[1])]\n",
    "pd.Series(vif, index=X_train_comb.columns, name=\"Variance Inflation Factor\")"
   ]
  },
  {
   "cell_type": "markdown",
   "id": "29b3dd31",
   "metadata": {},
   "source": [
    "From our data above, both our bathrooms and sqft_living are below 5.\n",
    "Thus, our model's features are not highly correlated with each other."
   ]
  },
  {
   "cell_type": "markdown",
   "id": "8a17c4cf",
   "metadata": {},
   "source": [
    "### Investigating Homoscedasticity"
   ]
  },
  {
   "cell_type": "markdown",
   "id": "1f294b68",
   "metadata": {},
   "source": [
    "Finally, we will check for homoscedasticty."
   ]
  },
  {
   "cell_type": "code",
   "execution_count": 98,
   "id": "6ac28a42",
   "metadata": {},
   "outputs": [
    {
     "data": {
      "image/png": "[encoded data removed]",
      "text/plain": [
       "<Figure size 432x288 with 1 Axes>"
      ]
     },
     "metadata": {
      "needs_background": "light"
     },
     "output_type": "display_data"
    }
   ],
   "source": [
    "fig, ax = plt.subplots()\n",
    "\n",
    "ax.scatter(preds, residuals, alpha=0.5)\n",
    "ax.plot(preds, [0 for i in range(len(X_test_comb))])\n",
    "ax.set_xlabel(\"Predicted Value\")\n",
    "ax.set_ylabel(\"Actual - Predicted Value\");"
   ]
  },
  {
   "cell_type": "markdown",
   "id": "755f8ec1",
   "metadata": {},
   "source": [
    "From the graph above, we can see a funel-like shape. This means that we violated the homoscedasticity assumption and our model is heteroscedasticity, which means that the price is unequal across the range of values of the predictors."
   ]
  },
  {
   "cell_type": "markdown",
   "id": "bdf39648",
   "metadata": {},
   "source": [
    "# Linear Regression Conclusion"
   ]
  },
  {
   "cell_type": "markdown",
   "id": "cff9ee17",
   "metadata": {},
   "source": [
    "In conclusion, our model explains 49% of variation of the data. For every 1 standard deviation of sqft_living, the price of the house increase by \\\\$186,780. For every 1 standard deviation of bathroom, the price of the house increase by \\\\$32,503."
   ]
  },
  {
   "cell_type": "markdown",
   "id": "262a329f",
   "metadata": {},
   "source": [
    "Our recommendations would be to add a bathroom to increase the price of the house. If the house does not have enough space to add extra sqft_living, adding a bathroom will increase the price of the house."
   ]
  }
 ],
 "metadata": {
  "kernelspec": {
   "display_name": "Python 3",
   "language": "python",
   "name": "python3"
  },
  "language_info": {
   "codemirror_mode": {
    "name": "ipython",
    "version": 3
   },
   "file_extension": ".py",
   "mimetype": "text/x-python",
   "name": "python",
   "nbconvert_exporter": "python",
   "pygments_lexer": "ipython3",
   "version": "3.8.8"
  }
 },
 "nbformat": 4,
 "nbformat_minor": 5
}
